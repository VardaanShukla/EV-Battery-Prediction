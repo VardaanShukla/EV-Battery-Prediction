{
 "cells": [
  {
   "cell_type": "code",
   "execution_count": 2,
   "metadata": {
    "colab": {
     "base_uri": "https://localhost:8080/",
     "height": 304
    },
    "id": "6AuJTB2jhYO4",
    "outputId": "e31aedb9-7c44-4006-ea65-fe9b3b5a30a1"
   },
   "outputs": [
    {
     "ename": "MessageError",
     "evalue": "Error: credential propagation was unsuccessful",
     "output_type": "error",
     "traceback": [
      "\u001b[0;31m---------------------------------------------------------------------------\u001b[0m",
      "\u001b[0;31mMessageError\u001b[0m                              Traceback (most recent call last)",
      "\u001b[0;32m<ipython-input-2-d5df0069828e>\u001b[0m in \u001b[0;36m<cell line: 2>\u001b[0;34m()\u001b[0m\n\u001b[1;32m      1\u001b[0m \u001b[0;32mfrom\u001b[0m \u001b[0mgoogle\u001b[0m\u001b[0;34m.\u001b[0m\u001b[0mcolab\u001b[0m \u001b[0;32mimport\u001b[0m \u001b[0mdrive\u001b[0m\u001b[0;34m\u001b[0m\u001b[0;34m\u001b[0m\u001b[0m\n\u001b[0;32m----> 2\u001b[0;31m \u001b[0mdrive\u001b[0m\u001b[0;34m.\u001b[0m\u001b[0mmount\u001b[0m\u001b[0;34m(\u001b[0m\u001b[0;34m'/content/drive'\u001b[0m\u001b[0;34m)\u001b[0m\u001b[0;34m\u001b[0m\u001b[0;34m\u001b[0m\u001b[0m\n\u001b[0m",
      "\u001b[0;32m/usr/local/lib/python3.10/dist-packages/google/colab/drive.py\u001b[0m in \u001b[0;36mmount\u001b[0;34m(mountpoint, force_remount, timeout_ms, readonly)\u001b[0m\n\u001b[1;32m     98\u001b[0m \u001b[0;32mdef\u001b[0m \u001b[0mmount\u001b[0m\u001b[0;34m(\u001b[0m\u001b[0mmountpoint\u001b[0m\u001b[0;34m,\u001b[0m \u001b[0mforce_remount\u001b[0m\u001b[0;34m=\u001b[0m\u001b[0;32mFalse\u001b[0m\u001b[0;34m,\u001b[0m \u001b[0mtimeout_ms\u001b[0m\u001b[0;34m=\u001b[0m\u001b[0;36m120000\u001b[0m\u001b[0;34m,\u001b[0m \u001b[0mreadonly\u001b[0m\u001b[0;34m=\u001b[0m\u001b[0;32mFalse\u001b[0m\u001b[0;34m)\u001b[0m\u001b[0;34m:\u001b[0m\u001b[0;34m\u001b[0m\u001b[0;34m\u001b[0m\u001b[0m\n\u001b[1;32m     99\u001b[0m   \u001b[0;34m\"\"\"Mount your Google Drive at the specified mountpoint path.\"\"\"\u001b[0m\u001b[0;34m\u001b[0m\u001b[0;34m\u001b[0m\u001b[0m\n\u001b[0;32m--> 100\u001b[0;31m   return _mount(\n\u001b[0m\u001b[1;32m    101\u001b[0m       \u001b[0mmountpoint\u001b[0m\u001b[0;34m,\u001b[0m\u001b[0;34m\u001b[0m\u001b[0;34m\u001b[0m\u001b[0m\n\u001b[1;32m    102\u001b[0m       \u001b[0mforce_remount\u001b[0m\u001b[0;34m=\u001b[0m\u001b[0mforce_remount\u001b[0m\u001b[0;34m,\u001b[0m\u001b[0;34m\u001b[0m\u001b[0;34m\u001b[0m\u001b[0m\n",
      "\u001b[0;32m/usr/local/lib/python3.10/dist-packages/google/colab/drive.py\u001b[0m in \u001b[0;36m_mount\u001b[0;34m(mountpoint, force_remount, timeout_ms, ephemeral, readonly)\u001b[0m\n\u001b[1;32m    131\u001b[0m   )\n\u001b[1;32m    132\u001b[0m   \u001b[0;32mif\u001b[0m \u001b[0mephemeral\u001b[0m\u001b[0;34m:\u001b[0m\u001b[0;34m\u001b[0m\u001b[0;34m\u001b[0m\u001b[0m\n\u001b[0;32m--> 133\u001b[0;31m     _message.blocking_request(\n\u001b[0m\u001b[1;32m    134\u001b[0m         \u001b[0;34m'request_auth'\u001b[0m\u001b[0;34m,\u001b[0m \u001b[0mrequest\u001b[0m\u001b[0;34m=\u001b[0m\u001b[0;34m{\u001b[0m\u001b[0;34m'authType'\u001b[0m\u001b[0;34m:\u001b[0m \u001b[0;34m'dfs_ephemeral'\u001b[0m\u001b[0;34m}\u001b[0m\u001b[0;34m,\u001b[0m \u001b[0mtimeout_sec\u001b[0m\u001b[0;34m=\u001b[0m\u001b[0;32mNone\u001b[0m\u001b[0;34m\u001b[0m\u001b[0;34m\u001b[0m\u001b[0m\n\u001b[1;32m    135\u001b[0m     )\n",
      "\u001b[0;32m/usr/local/lib/python3.10/dist-packages/google/colab/_message.py\u001b[0m in \u001b[0;36mblocking_request\u001b[0;34m(request_type, request, timeout_sec, parent)\u001b[0m\n\u001b[1;32m    174\u001b[0m       \u001b[0mrequest_type\u001b[0m\u001b[0;34m,\u001b[0m \u001b[0mrequest\u001b[0m\u001b[0;34m,\u001b[0m \u001b[0mparent\u001b[0m\u001b[0;34m=\u001b[0m\u001b[0mparent\u001b[0m\u001b[0;34m,\u001b[0m \u001b[0mexpect_reply\u001b[0m\u001b[0;34m=\u001b[0m\u001b[0;32mTrue\u001b[0m\u001b[0;34m\u001b[0m\u001b[0;34m\u001b[0m\u001b[0m\n\u001b[1;32m    175\u001b[0m   )\n\u001b[0;32m--> 176\u001b[0;31m   \u001b[0;32mreturn\u001b[0m \u001b[0mread_reply_from_input\u001b[0m\u001b[0;34m(\u001b[0m\u001b[0mrequest_id\u001b[0m\u001b[0;34m,\u001b[0m \u001b[0mtimeout_sec\u001b[0m\u001b[0;34m)\u001b[0m\u001b[0;34m\u001b[0m\u001b[0;34m\u001b[0m\u001b[0m\n\u001b[0m",
      "\u001b[0;32m/usr/local/lib/python3.10/dist-packages/google/colab/_message.py\u001b[0m in \u001b[0;36mread_reply_from_input\u001b[0;34m(message_id, timeout_sec)\u001b[0m\n\u001b[1;32m    101\u001b[0m     ):\n\u001b[1;32m    102\u001b[0m       \u001b[0;32mif\u001b[0m \u001b[0;34m'error'\u001b[0m \u001b[0;32min\u001b[0m \u001b[0mreply\u001b[0m\u001b[0;34m:\u001b[0m\u001b[0;34m\u001b[0m\u001b[0;34m\u001b[0m\u001b[0m\n\u001b[0;32m--> 103\u001b[0;31m         \u001b[0;32mraise\u001b[0m \u001b[0mMessageError\u001b[0m\u001b[0;34m(\u001b[0m\u001b[0mreply\u001b[0m\u001b[0;34m[\u001b[0m\u001b[0;34m'error'\u001b[0m\u001b[0;34m]\u001b[0m\u001b[0;34m)\u001b[0m\u001b[0;34m\u001b[0m\u001b[0;34m\u001b[0m\u001b[0m\n\u001b[0m\u001b[1;32m    104\u001b[0m       \u001b[0;32mreturn\u001b[0m \u001b[0mreply\u001b[0m\u001b[0;34m.\u001b[0m\u001b[0mget\u001b[0m\u001b[0;34m(\u001b[0m\u001b[0;34m'data'\u001b[0m\u001b[0;34m,\u001b[0m \u001b[0;32mNone\u001b[0m\u001b[0;34m)\u001b[0m\u001b[0;34m\u001b[0m\u001b[0;34m\u001b[0m\u001b[0m\n\u001b[1;32m    105\u001b[0m \u001b[0;34m\u001b[0m\u001b[0m\n",
      "\u001b[0;31mMessageError\u001b[0m: Error: credential propagation was unsuccessful"
     ]
    }
   ],
   "source": [
    "from google.colab import drive\n",
    "drive.mount('/content/drive')"
   ]
  },
  {
   "cell_type": "code",
   "execution_count": 1,
   "metadata": {
    "id": "_UA9_cQTQCnP"
   },
   "outputs": [],
   "source": [
    "import numpy as np"
   ]
  },
  {
   "cell_type": "code",
   "execution_count": 2,
   "metadata": {
    "id": "Ae0coLaLQDcT"
   },
   "outputs": [],
   "source": [
    "import pandas as pd"
   ]
  },
  {
   "cell_type": "code",
   "execution_count": 6,
   "metadata": {},
   "outputs": [
    {
     "name": "stdout",
     "output_type": "stream",
     "text": [
      "Collecting openpyxl\n",
      "  Downloading openpyxl-3.1.2-py2.py3-none-any.whl.metadata (2.5 kB)\n",
      "Collecting et-xmlfile (from openpyxl)\n",
      "  Downloading et_xmlfile-1.1.0-py3-none-any.whl.metadata (1.8 kB)\n",
      "Downloading openpyxl-3.1.2-py2.py3-none-any.whl (249 kB)\n",
      "   ---------------------------------------- 0.0/250.0 kB ? eta -:--:--\n",
      "   - -------------------------------------- 10.2/250.0 kB ? eta -:--:--\n",
      "   ---------------------- ----------------- 143.4/250.0 kB 2.8 MB/s eta 0:00:01\n",
      "   ---------------------------------------- 250.0/250.0 kB 3.9 MB/s eta 0:00:00\n",
      "Downloading et_xmlfile-1.1.0-py3-none-any.whl (4.7 kB)\n",
      "Installing collected packages: et-xmlfile, openpyxl\n",
      "Successfully installed et-xmlfile-1.1.0 openpyxl-3.1.2\n",
      "Note: you may need to restart the kernel to use updated packages.\n"
     ]
    }
   ],
   "source": [
    "pip install openpyxl"
   ]
  },
  {
   "cell_type": "code",
   "execution_count": 7,
   "metadata": {
    "id": "8rqDqgv_QF7G"
   },
   "outputs": [],
   "source": [
    "df = pd.read_excel('73.6V 300Ah_dataset.xlsx')"
   ]
  },
  {
   "cell_type": "code",
   "execution_count": 8,
   "metadata": {
    "colab": {
     "base_uri": "https://localhost:8080/",
     "height": 669
    },
    "id": "EP8sPzBfRU8-",
    "outputId": "840cd9da-84bd-4776-ac12-72b8be6e8255"
   },
   "outputs": [
    {
     "data": {
      "text/html": [
       "<div>\n",
       "<style scoped>\n",
       "    .dataframe tbody tr th:only-of-type {\n",
       "        vertical-align: middle;\n",
       "    }\n",
       "\n",
       "    .dataframe tbody tr th {\n",
       "        vertical-align: top;\n",
       "    }\n",
       "\n",
       "    .dataframe thead th {\n",
       "        text-align: right;\n",
       "    }\n",
       "</style>\n",
       "<table border=\"1\" class=\"dataframe\">\n",
       "  <thead>\n",
       "    <tr style=\"text-align: right;\">\n",
       "      <th></th>\n",
       "      <th>SN</th>\n",
       "      <th>Device_Time</th>\n",
       "      <th>Sys_State</th>\n",
       "      <th>SOC</th>\n",
       "      <th>SOH</th>\n",
       "      <th>Pack Volt.(V)</th>\n",
       "      <th>/Current(A)</th>\n",
       "      <th>System Insul. Resis.(KΩ)</th>\n",
       "      <th>Positive Insul. Resis.(KΩ)</th>\n",
       "      <th>Insul. Neg. Resis.(KΩ)</th>\n",
       "      <th>...</th>\n",
       "      <th>junction_post_tempr(℃)</th>\n",
       "      <th>HV1(V)</th>\n",
       "      <th>HV2(V)</th>\n",
       "      <th>HV3(V)</th>\n",
       "      <th>HV4(V)</th>\n",
       "      <th>HV5(V)</th>\n",
       "      <th>hvbpos(V)</th>\n",
       "      <th>Chg Req Volt (V)</th>\n",
       "      <th>Chg Req Curr(A)</th>\n",
       "      <th>supplyVolt(mV)</th>\n",
       "    </tr>\n",
       "  </thead>\n",
       "  <tbody>\n",
       "    <tr>\n",
       "      <th>0</th>\n",
       "      <td>1</td>\n",
       "      <td>2023-09-09 00:00:20</td>\n",
       "      <td>Discharging</td>\n",
       "      <td>96.0</td>\n",
       "      <td>98.9</td>\n",
       "      <td>75.9</td>\n",
       "      <td>-17.6</td>\n",
       "      <td>65535</td>\n",
       "      <td>65535</td>\n",
       "      <td>65535</td>\n",
       "      <td>...</td>\n",
       "      <td>NaN</td>\n",
       "      <td>0.6</td>\n",
       "      <td>0.6</td>\n",
       "      <td>0.6</td>\n",
       "      <td>6553.5</td>\n",
       "      <td>6553.5</td>\n",
       "      <td>75.9</td>\n",
       "      <td>82.8</td>\n",
       "      <td>100.0</td>\n",
       "      <td>11355</td>\n",
       "    </tr>\n",
       "    <tr>\n",
       "      <th>1</th>\n",
       "      <td>2</td>\n",
       "      <td>2023-09-09 00:00:51</td>\n",
       "      <td>Discharging</td>\n",
       "      <td>95.9</td>\n",
       "      <td>98.9</td>\n",
       "      <td>76.2</td>\n",
       "      <td>-7.5</td>\n",
       "      <td>65535</td>\n",
       "      <td>65535</td>\n",
       "      <td>65535</td>\n",
       "      <td>...</td>\n",
       "      <td>NaN</td>\n",
       "      <td>0.6</td>\n",
       "      <td>0.6</td>\n",
       "      <td>0.6</td>\n",
       "      <td>6553.5</td>\n",
       "      <td>6553.5</td>\n",
       "      <td>76.2</td>\n",
       "      <td>82.8</td>\n",
       "      <td>100.0</td>\n",
       "      <td>11372</td>\n",
       "    </tr>\n",
       "    <tr>\n",
       "      <th>2</th>\n",
       "      <td>3</td>\n",
       "      <td>2023-09-09 00:01:21</td>\n",
       "      <td>Discharging</td>\n",
       "      <td>95.7</td>\n",
       "      <td>98.9</td>\n",
       "      <td>76.1</td>\n",
       "      <td>-31.1</td>\n",
       "      <td>65535</td>\n",
       "      <td>65535</td>\n",
       "      <td>65535</td>\n",
       "      <td>...</td>\n",
       "      <td>NaN</td>\n",
       "      <td>0.6</td>\n",
       "      <td>0.6</td>\n",
       "      <td>0.6</td>\n",
       "      <td>6553.5</td>\n",
       "      <td>6553.5</td>\n",
       "      <td>76.0</td>\n",
       "      <td>82.8</td>\n",
       "      <td>100.0</td>\n",
       "      <td>11372</td>\n",
       "    </tr>\n",
       "    <tr>\n",
       "      <th>3</th>\n",
       "      <td>4</td>\n",
       "      <td>2023-09-09 00:01:52</td>\n",
       "      <td>Discharging</td>\n",
       "      <td>95.6</td>\n",
       "      <td>98.9</td>\n",
       "      <td>76.1</td>\n",
       "      <td>-34.6</td>\n",
       "      <td>65535</td>\n",
       "      <td>65535</td>\n",
       "      <td>65535</td>\n",
       "      <td>...</td>\n",
       "      <td>NaN</td>\n",
       "      <td>0.6</td>\n",
       "      <td>0.6</td>\n",
       "      <td>0.6</td>\n",
       "      <td>6553.5</td>\n",
       "      <td>6553.5</td>\n",
       "      <td>76.1</td>\n",
       "      <td>82.8</td>\n",
       "      <td>100.0</td>\n",
       "      <td>11372</td>\n",
       "    </tr>\n",
       "    <tr>\n",
       "      <th>4</th>\n",
       "      <td>5</td>\n",
       "      <td>2023-09-09 00:02:23</td>\n",
       "      <td>Discharging</td>\n",
       "      <td>95.6</td>\n",
       "      <td>98.9</td>\n",
       "      <td>76.6</td>\n",
       "      <td>2.4</td>\n",
       "      <td>65535</td>\n",
       "      <td>65535</td>\n",
       "      <td>65535</td>\n",
       "      <td>...</td>\n",
       "      <td>NaN</td>\n",
       "      <td>0.6</td>\n",
       "      <td>0.6</td>\n",
       "      <td>0.6</td>\n",
       "      <td>6553.5</td>\n",
       "      <td>6553.5</td>\n",
       "      <td>76.4</td>\n",
       "      <td>82.8</td>\n",
       "      <td>100.0</td>\n",
       "      <td>11372</td>\n",
       "    </tr>\n",
       "    <tr>\n",
       "      <th>...</th>\n",
       "      <td>...</td>\n",
       "      <td>...</td>\n",
       "      <td>...</td>\n",
       "      <td>...</td>\n",
       "      <td>...</td>\n",
       "      <td>...</td>\n",
       "      <td>...</td>\n",
       "      <td>...</td>\n",
       "      <td>...</td>\n",
       "      <td>...</td>\n",
       "      <td>...</td>\n",
       "      <td>...</td>\n",
       "      <td>...</td>\n",
       "      <td>...</td>\n",
       "      <td>...</td>\n",
       "      <td>...</td>\n",
       "      <td>...</td>\n",
       "      <td>...</td>\n",
       "      <td>...</td>\n",
       "      <td>...</td>\n",
       "      <td>...</td>\n",
       "    </tr>\n",
       "    <tr>\n",
       "      <th>17001</th>\n",
       "      <td>17002</td>\n",
       "      <td>2023-09-15 11:26:11</td>\n",
       "      <td>Charging</td>\n",
       "      <td>89.0</td>\n",
       "      <td>98.8</td>\n",
       "      <td>76.4</td>\n",
       "      <td>-28.5</td>\n",
       "      <td>65535</td>\n",
       "      <td>65535</td>\n",
       "      <td>65535</td>\n",
       "      <td>...</td>\n",
       "      <td>NaN</td>\n",
       "      <td>0.6</td>\n",
       "      <td>0.6</td>\n",
       "      <td>0.6</td>\n",
       "      <td>6553.5</td>\n",
       "      <td>6553.5</td>\n",
       "      <td>76.3</td>\n",
       "      <td>82.8</td>\n",
       "      <td>100.0</td>\n",
       "      <td>11355</td>\n",
       "    </tr>\n",
       "    <tr>\n",
       "      <th>17002</th>\n",
       "      <td>17003</td>\n",
       "      <td>2023-09-15 11:26:41</td>\n",
       "      <td>Discharging</td>\n",
       "      <td>89.0</td>\n",
       "      <td>98.8</td>\n",
       "      <td>76.5</td>\n",
       "      <td>0.0</td>\n",
       "      <td>65535</td>\n",
       "      <td>65535</td>\n",
       "      <td>65535</td>\n",
       "      <td>...</td>\n",
       "      <td>NaN</td>\n",
       "      <td>0.6</td>\n",
       "      <td>0.6</td>\n",
       "      <td>0.6</td>\n",
       "      <td>6553.5</td>\n",
       "      <td>6553.5</td>\n",
       "      <td>76.5</td>\n",
       "      <td>82.8</td>\n",
       "      <td>100.0</td>\n",
       "      <td>11372</td>\n",
       "    </tr>\n",
       "    <tr>\n",
       "      <th>17003</th>\n",
       "      <td>17004</td>\n",
       "      <td>2023-09-15 11:27:12</td>\n",
       "      <td>Discharging</td>\n",
       "      <td>89.0</td>\n",
       "      <td>98.8</td>\n",
       "      <td>76.6</td>\n",
       "      <td>0.0</td>\n",
       "      <td>65535</td>\n",
       "      <td>65535</td>\n",
       "      <td>65535</td>\n",
       "      <td>...</td>\n",
       "      <td>NaN</td>\n",
       "      <td>0.6</td>\n",
       "      <td>0.6</td>\n",
       "      <td>0.6</td>\n",
       "      <td>6553.5</td>\n",
       "      <td>6553.5</td>\n",
       "      <td>76.5</td>\n",
       "      <td>82.8</td>\n",
       "      <td>100.0</td>\n",
       "      <td>11389</td>\n",
       "    </tr>\n",
       "    <tr>\n",
       "      <th>17004</th>\n",
       "      <td>17005</td>\n",
       "      <td>2023-09-15 11:27:42</td>\n",
       "      <td>Discharging</td>\n",
       "      <td>89.0</td>\n",
       "      <td>98.8</td>\n",
       "      <td>76.6</td>\n",
       "      <td>0.0</td>\n",
       "      <td>65535</td>\n",
       "      <td>65535</td>\n",
       "      <td>65535</td>\n",
       "      <td>...</td>\n",
       "      <td>NaN</td>\n",
       "      <td>0.6</td>\n",
       "      <td>0.6</td>\n",
       "      <td>0.6</td>\n",
       "      <td>6553.5</td>\n",
       "      <td>6553.5</td>\n",
       "      <td>76.6</td>\n",
       "      <td>82.8</td>\n",
       "      <td>100.0</td>\n",
       "      <td>11372</td>\n",
       "    </tr>\n",
       "    <tr>\n",
       "      <th>17005</th>\n",
       "      <td>17006</td>\n",
       "      <td>2023-09-15 11:28:13</td>\n",
       "      <td>Discharging</td>\n",
       "      <td>89.0</td>\n",
       "      <td>98.8</td>\n",
       "      <td>76.6</td>\n",
       "      <td>0.0</td>\n",
       "      <td>65535</td>\n",
       "      <td>65535</td>\n",
       "      <td>65535</td>\n",
       "      <td>...</td>\n",
       "      <td>NaN</td>\n",
       "      <td>0.6</td>\n",
       "      <td>0.6</td>\n",
       "      <td>0.6</td>\n",
       "      <td>6553.5</td>\n",
       "      <td>6553.5</td>\n",
       "      <td>76.6</td>\n",
       "      <td>82.8</td>\n",
       "      <td>100.0</td>\n",
       "      <td>11389</td>\n",
       "    </tr>\n",
       "  </tbody>\n",
       "</table>\n",
       "<p>17006 rows × 68 columns</p>\n",
       "</div>"
      ],
      "text/plain": [
       "          SN          Device_Time    Sys_State   SOC   SOH  Pack Volt.(V)  \\\n",
       "0          1  2023-09-09 00:00:20  Discharging  96.0  98.9           75.9   \n",
       "1          2  2023-09-09 00:00:51  Discharging  95.9  98.9           76.2   \n",
       "2          3  2023-09-09 00:01:21  Discharging  95.7  98.9           76.1   \n",
       "3          4  2023-09-09 00:01:52  Discharging  95.6  98.9           76.1   \n",
       "4          5  2023-09-09 00:02:23  Discharging  95.6  98.9           76.6   \n",
       "...      ...                  ...          ...   ...   ...            ...   \n",
       "17001  17002  2023-09-15 11:26:11     Charging  89.0  98.8           76.4   \n",
       "17002  17003  2023-09-15 11:26:41  Discharging  89.0  98.8           76.5   \n",
       "17003  17004  2023-09-15 11:27:12  Discharging  89.0  98.8           76.6   \n",
       "17004  17005  2023-09-15 11:27:42  Discharging  89.0  98.8           76.6   \n",
       "17005  17006  2023-09-15 11:28:13  Discharging  89.0  98.8           76.6   \n",
       "\n",
       "       /Current(A)  System Insul. Resis.(KΩ)  Positive Insul. Resis.(KΩ)  \\\n",
       "0            -17.6                     65535                       65535   \n",
       "1             -7.5                     65535                       65535   \n",
       "2            -31.1                     65535                       65535   \n",
       "3            -34.6                     65535                       65535   \n",
       "4              2.4                     65535                       65535   \n",
       "...            ...                       ...                         ...   \n",
       "17001        -28.5                     65535                       65535   \n",
       "17002          0.0                     65535                       65535   \n",
       "17003          0.0                     65535                       65535   \n",
       "17004          0.0                     65535                       65535   \n",
       "17005          0.0                     65535                       65535   \n",
       "\n",
       "       Insul. Neg. Resis.(KΩ)  ... junction_post_tempr(℃)  HV1(V)  HV2(V)  \\\n",
       "0                       65535  ...                    NaN     0.6     0.6   \n",
       "1                       65535  ...                    NaN     0.6     0.6   \n",
       "2                       65535  ...                    NaN     0.6     0.6   \n",
       "3                       65535  ...                    NaN     0.6     0.6   \n",
       "4                       65535  ...                    NaN     0.6     0.6   \n",
       "...                       ...  ...                    ...     ...     ...   \n",
       "17001                   65535  ...                    NaN     0.6     0.6   \n",
       "17002                   65535  ...                    NaN     0.6     0.6   \n",
       "17003                   65535  ...                    NaN     0.6     0.6   \n",
       "17004                   65535  ...                    NaN     0.6     0.6   \n",
       "17005                   65535  ...                    NaN     0.6     0.6   \n",
       "\n",
       "       HV3(V)  HV4(V)  HV5(V)  hvbpos(V)  Chg Req Volt (V)  Chg Req Curr(A)  \\\n",
       "0         0.6  6553.5  6553.5       75.9              82.8            100.0   \n",
       "1         0.6  6553.5  6553.5       76.2              82.8            100.0   \n",
       "2         0.6  6553.5  6553.5       76.0              82.8            100.0   \n",
       "3         0.6  6553.5  6553.5       76.1              82.8            100.0   \n",
       "4         0.6  6553.5  6553.5       76.4              82.8            100.0   \n",
       "...       ...     ...     ...        ...               ...              ...   \n",
       "17001     0.6  6553.5  6553.5       76.3              82.8            100.0   \n",
       "17002     0.6  6553.5  6553.5       76.5              82.8            100.0   \n",
       "17003     0.6  6553.5  6553.5       76.5              82.8            100.0   \n",
       "17004     0.6  6553.5  6553.5       76.6              82.8            100.0   \n",
       "17005     0.6  6553.5  6553.5       76.6              82.8            100.0   \n",
       "\n",
       "       supplyVolt(mV)  \n",
       "0               11355  \n",
       "1               11372  \n",
       "2               11372  \n",
       "3               11372  \n",
       "4               11372  \n",
       "...               ...  \n",
       "17001           11355  \n",
       "17002           11372  \n",
       "17003           11389  \n",
       "17004           11372  \n",
       "17005           11389  \n",
       "\n",
       "[17006 rows x 68 columns]"
      ]
     },
     "execution_count": 8,
     "metadata": {},
     "output_type": "execute_result"
    }
   ],
   "source": [
    "df"
   ]
  },
  {
   "cell_type": "code",
   "execution_count": 9,
   "metadata": {
    "colab": {
     "base_uri": "https://localhost:8080/"
    },
    "id": "AA-rcAnlSeFd",
    "outputId": "f8f7f632-697b-4295-ab74-9d9167cd1b39"
   },
   "outputs": [
    {
     "data": {
      "text/plain": [
       "(17006, 68)"
      ]
     },
     "execution_count": 9,
     "metadata": {},
     "output_type": "execute_result"
    }
   ],
   "source": [
    "df.shape"
   ]
  },
  {
   "cell_type": "code",
   "execution_count": 10,
   "metadata": {
    "colab": {
     "base_uri": "https://localhost:8080/"
    },
    "id": "XcqNm9YoSmUA",
    "outputId": "a70f2217-516a-46e3-aa72-5707beb97802"
   },
   "outputs": [
    {
     "data": {
      "text/plain": [
       "Index(['SN', 'Device_Time', 'Sys_State', 'SOC', 'SOH', 'Pack Volt.(V)',\n",
       "       '/Current(A)', 'System Insul. Resis.(KΩ)', 'Positive Insul. Resis.(KΩ)',\n",
       "       'Insul. Neg. Resis.(KΩ)', 'Relay Status', 'Subsystem No. of Max V.',\n",
       "       'Max Cell V.(V)', 'Subsystem No. of Min V.', 'Min Cell V.(V)',\n",
       "       'voltage differential', 'Subsystem No. of Max T.', 'Max Temp.(℃)',\n",
       "       'Subsystem No. of Min T.', 'Min Temp.(℃)', 'Signal Ind.',\n",
       "       'Cell Volt.#1(mv)', 'Cell Volt.#2(mv)', 'Cell Volt.#3(mv)',\n",
       "       'Cell Volt.#4(mv)', 'Cell Volt.#5(mv)', 'Cell Volt.#6(mv)',\n",
       "       'Cell Volt.#7(mv)', 'Cell Volt.#8(mv)', 'Cell Volt.#9(mv)',\n",
       "       'Cell Volt.#10(mv)', 'Cell Volt.#11(mv)', 'Cell Volt.#12(mv)',\n",
       "       'Cell Volt.#13(mv)', 'Cell Volt.#14(mv)', 'Cell Volt.#15(mv)',\n",
       "       'Cell Volt.#16(mv)', 'Cell Volt.#17(mv)', 'Cell Volt.#18(mv)',\n",
       "       'Cell Volt.#19(mv)', 'Cell Volt.#20(mv)', 'Cell Volt.#21(mv)',\n",
       "       'Cell Volt.#22(mv)', 'Cell Volt.#23(mv)', 'Cell Temp.#1(℃)',\n",
       "       'Cell Temp.#2(℃)', 'Cell Temp.#3(℃)', 'Cell Temp.#4(℃)',\n",
       "       'Cell Temp.#5(℃)', 'Cell Temp.#6(℃)', 'Cell Temp.#7(℃)',\n",
       "       'Cell Temp.#8(℃)', 'Charger Output V.(V)', 'Charger Output C.(A)',\n",
       "       'Total Dchg Cap.( Ngy.)', 'Total Chg Cap.(Ngy.)', 'heartbeat',\n",
       "       'heating_tempr(℃)', 'junction_post_tempr(℃)', 'HV1(V)', 'HV2(V)',\n",
       "       'HV3(V)', 'HV4(V)', 'HV5(V)', 'hvbpos(V)', 'Chg Req Volt (V)',\n",
       "       'Chg Req Curr(A)', 'supplyVolt(mV)'],\n",
       "      dtype='object')"
      ]
     },
     "execution_count": 10,
     "metadata": {},
     "output_type": "execute_result"
    }
   ],
   "source": [
    "df.columns"
   ]
  },
  {
   "cell_type": "code",
   "execution_count": 11,
   "metadata": {
    "colab": {
     "base_uri": "https://localhost:8080/"
    },
    "id": "DxsmaPPCSrwl",
    "outputId": "d439aa45-d840-4948-8fd8-cf7fd7941d8f"
   },
   "outputs": [
    {
     "data": {
      "text/plain": [
       "SN                  0\n",
       "Device_Time         0\n",
       "Sys_State           0\n",
       "SOC                 0\n",
       "SOH                 0\n",
       "                   ..\n",
       "HV5(V)              0\n",
       "hvbpos(V)           0\n",
       "Chg Req Volt (V)    0\n",
       "Chg Req Curr(A)     0\n",
       "supplyVolt(mV)      0\n",
       "Length: 68, dtype: int64"
      ]
     },
     "execution_count": 11,
     "metadata": {},
     "output_type": "execute_result"
    }
   ],
   "source": [
    "df.isnull().sum()"
   ]
  },
  {
   "cell_type": "code",
   "execution_count": 12,
   "metadata": {
    "colab": {
     "base_uri": "https://localhost:8080/"
    },
    "id": "irADxFC4h_fB",
    "outputId": "1232be70-dd39-4a20-cdfe-240d33cef86b"
   },
   "outputs": [
    {
     "name": "stdout",
     "output_type": "stream",
     "text": [
      "<class 'pandas.core.frame.DataFrame'>\n",
      "RangeIndex: 17006 entries, 0 to 17005\n",
      "Data columns (total 68 columns):\n",
      " #   Column                      Non-Null Count  Dtype  \n",
      "---  ------                      --------------  -----  \n",
      " 0   SN                          17006 non-null  int64  \n",
      " 1   Device_Time                 17006 non-null  object \n",
      " 2   Sys_State                   17006 non-null  object \n",
      " 3   SOC                         17006 non-null  float64\n",
      " 4   SOH                         17006 non-null  float64\n",
      " 5   Pack Volt.(V)               17006 non-null  float64\n",
      " 6   /Current(A)                 17006 non-null  float64\n",
      " 7   System Insul. Resis.(KΩ)    17006 non-null  int64  \n",
      " 8   Positive Insul. Resis.(KΩ)  17006 non-null  int64  \n",
      " 9   Insul. Neg. Resis.(KΩ)      17006 non-null  int64  \n",
      " 10  Relay Status                17006 non-null  object \n",
      " 11  Subsystem No. of Max V.     17006 non-null  int64  \n",
      " 12  Max Cell V.(V)              17006 non-null  float64\n",
      " 13  Subsystem No. of Min V.     17006 non-null  int64  \n",
      " 14  Min Cell V.(V)              17006 non-null  float64\n",
      " 15  voltage differential        17006 non-null  float64\n",
      " 16  Subsystem No. of Max T.     17006 non-null  int64  \n",
      " 17  Max Temp.(℃)                17006 non-null  int64  \n",
      " 18  Subsystem No. of Min T.     17006 non-null  int64  \n",
      " 19  Min Temp.(℃)                17006 non-null  int64  \n",
      " 20  Signal Ind.                 17006 non-null  int64  \n",
      " 21  Cell Volt.#1(mv)            17006 non-null  int64  \n",
      " 22  Cell Volt.#2(mv)            17006 non-null  int64  \n",
      " 23  Cell Volt.#3(mv)            17006 non-null  int64  \n",
      " 24  Cell Volt.#4(mv)            17006 non-null  int64  \n",
      " 25  Cell Volt.#5(mv)            17006 non-null  int64  \n",
      " 26  Cell Volt.#6(mv)            17006 non-null  int64  \n",
      " 27  Cell Volt.#7(mv)            17006 non-null  int64  \n",
      " 28  Cell Volt.#8(mv)            17006 non-null  int64  \n",
      " 29  Cell Volt.#9(mv)            17006 non-null  int64  \n",
      " 30  Cell Volt.#10(mv)           17006 non-null  int64  \n",
      " 31  Cell Volt.#11(mv)           17006 non-null  int64  \n",
      " 32  Cell Volt.#12(mv)           17006 non-null  int64  \n",
      " 33  Cell Volt.#13(mv)           17006 non-null  int64  \n",
      " 34  Cell Volt.#14(mv)           17006 non-null  int64  \n",
      " 35  Cell Volt.#15(mv)           17006 non-null  int64  \n",
      " 36  Cell Volt.#16(mv)           17006 non-null  int64  \n",
      " 37  Cell Volt.#17(mv)           17006 non-null  int64  \n",
      " 38  Cell Volt.#18(mv)           17006 non-null  int64  \n",
      " 39  Cell Volt.#19(mv)           17006 non-null  int64  \n",
      " 40  Cell Volt.#20(mv)           17006 non-null  int64  \n",
      " 41  Cell Volt.#21(mv)           17006 non-null  int64  \n",
      " 42  Cell Volt.#22(mv)           17006 non-null  int64  \n",
      " 43  Cell Volt.#23(mv)           17006 non-null  int64  \n",
      " 44  Cell Temp.#1(℃)             17006 non-null  int64  \n",
      " 45  Cell Temp.#2(℃)             17006 non-null  int64  \n",
      " 46  Cell Temp.#3(℃)             17006 non-null  int64  \n",
      " 47  Cell Temp.#4(℃)             17006 non-null  int64  \n",
      " 48  Cell Temp.#5(℃)             17006 non-null  int64  \n",
      " 49  Cell Temp.#6(℃)             17006 non-null  int64  \n",
      " 50  Cell Temp.#7(℃)             17006 non-null  int64  \n",
      " 51  Cell Temp.#8(℃)             17006 non-null  int64  \n",
      " 52  Charger Output V.(V)        17006 non-null  float64\n",
      " 53  Charger Output C.(A)        17006 non-null  float64\n",
      " 54  Total Dchg Cap.( Ngy.)      17006 non-null  object \n",
      " 55  Total Chg Cap.(Ngy.)        17006 non-null  object \n",
      " 56  heartbeat                   17006 non-null  int64  \n",
      " 57  heating_tempr(℃)            17006 non-null  int64  \n",
      " 58  junction_post_tempr(℃)      0 non-null      float64\n",
      " 59  HV1(V)                      17006 non-null  float64\n",
      " 60  HV2(V)                      17006 non-null  float64\n",
      " 61  HV3(V)                      17006 non-null  float64\n",
      " 62  HV4(V)                      17006 non-null  float64\n",
      " 63  HV5(V)                      17006 non-null  float64\n",
      " 64  hvbpos(V)                   17006 non-null  float64\n",
      " 65  Chg Req Volt (V)            17006 non-null  float64\n",
      " 66  Chg Req Curr(A)             17006 non-null  float64\n",
      " 67  supplyVolt(mV)              17006 non-null  int64  \n",
      "dtypes: float64(18), int64(45), object(5)\n",
      "memory usage: 8.8+ MB\n"
     ]
    }
   ],
   "source": [
    "df.info()"
   ]
  },
  {
   "cell_type": "code",
   "execution_count": 14,
   "metadata": {
    "colab": {
     "base_uri": "https://localhost:8080/",
     "height": 211
    },
    "id": "gZYBzmCFXri-",
    "outputId": "0044fc2e-7626-4b62-9fe5-cd2eb106d10b"
   },
   "outputs": [],
   "source": [
    "\n",
    "\n",
    "# Assuming df is your DataFrame\n",
    "df['Device_Time'] = pd.to_datetime(df['Device_Time'], format=\"%Y-%m-%d %H:%M:%S\")\n",
    "df['day'] = df['Device_Time'].dt.day\n",
    "df['month'] = df['Device_Time'].dt.month\n",
    "df['hour'] = df['Device_Time'].dt.hour\n",
    "df['weekday'] = df['Device_Time'].dt.weekday\n"
   ]
  },
  {
   "cell_type": "code",
   "execution_count": 15,
   "metadata": {
    "colab": {
     "base_uri": "https://localhost:8080/"
    },
    "id": "hoVf5tkhcGXs",
    "outputId": "05938ec9-2208-414e-9375-d2ef319467c7"
   },
   "outputs": [
    {
     "data": {
      "text/plain": [
       "0   2023-09-09 00:00:20\n",
       "1   2023-09-09 00:00:51\n",
       "2   2023-09-09 00:01:21\n",
       "3   2023-09-09 00:01:52\n",
       "4   2023-09-09 00:02:23\n",
       "Name: Device_Time, dtype: datetime64[ns]"
      ]
     },
     "execution_count": 15,
     "metadata": {},
     "output_type": "execute_result"
    }
   ],
   "source": [
    "df.Device_Time.head(5)"
   ]
  },
  {
   "cell_type": "code",
   "execution_count": 16,
   "metadata": {
    "id": "KEK0PVJwbtkx"
   },
   "outputs": [],
   "source": [
    "df['Device_Time'] = df['Device_Time'].astype('datetime64[ns]')\n",
    "df['hour'] = df.Device_Time.dt.hour\n",
    "df['month'] = df.Device_Time.dt.month\n",
    "df['day'] = df.Device_Time.dt.day"
   ]
  },
  {
   "cell_type": "code",
   "execution_count": null,
   "metadata": {
    "id": "FHy8gvCqXv8g"
   },
   "outputs": [],
   "source": [
    "#!pip install mxnet"
   ]
  },
  {
   "cell_type": "code",
   "execution_count": null,
   "metadata": {
    "id": "GHZRBKsKYmlc"
   },
   "outputs": [],
   "source": [
    "#!pip install npx"
   ]
  },
  {
   "cell_type": "code",
   "execution_count": null,
   "metadata": {
    "id": "N-1ENcPxK57S"
   },
   "outputs": [],
   "source": [
    "#!pip install --upgrade npx"
   ]
  },
  {
   "cell_type": "code",
   "execution_count": null,
   "metadata": {
    "id": "lBB94HysYuAM"
   },
   "outputs": [],
   "source": [
    "#!pip install mxnet\n",
    "#!pip install numpy 1.24\n",
    "#!pip install mxnet 1.9.1"
   ]
  },
  {
   "cell_type": "code",
   "execution_count": null,
   "metadata": {
    "id": "tf81N14dh7OK"
   },
   "outputs": [],
   "source": [
    "#from mxnet import np\n",
    "#!npm install set_np\n",
    "#import set_np"
   ]
  },
  {
   "cell_type": "code",
   "execution_count": null,
   "metadata": {
    "id": "w1QEZGIoKJ04"
   },
   "outputs": [],
   "source": [
    "#print(dir(npx))"
   ]
  },
  {
   "cell_type": "code",
   "execution_count": null,
   "metadata": {
    "id": "ivsOewtdPF-E"
   },
   "outputs": [],
   "source": [
    "#\"set_np\" in dir(npx)"
   ]
  },
  {
   "cell_type": "code",
   "execution_count": null,
   "metadata": {
    "id": "dpB18W-NN9q7"
   },
   "outputs": [],
   "source": [
    "#!npx help"
   ]
  },
  {
   "cell_type": "code",
   "execution_count": null,
   "metadata": {
    "id": "C7RP5NHhPNv2"
   },
   "outputs": [],
   "source": [
    "#print(dir(npx))\n",
    "#\"set_np\" in dir(npx)"
   ]
  },
  {
   "cell_type": "code",
   "execution_count": null,
   "metadata": {
    "id": "bmTFNLjSPyyd"
   },
   "outputs": [],
   "source": [
    "#!pip show npx"
   ]
  },
  {
   "cell_type": "code",
   "execution_count": null,
   "metadata": {
    "id": "NJ59qmEWYaeo"
   },
   "outputs": [],
   "source": [
    "#set_np()"
   ]
  },
  {
   "cell_type": "code",
   "execution_count": null,
   "metadata": {
    "id": "yh5X_qgYWBdL"
   },
   "outputs": [],
   "source": [
    "#from mxnet import np, npx\n",
    "#from mxnet.gluon import rnn\n",
    "#from d2l import mxnet as d2l\n",
    "#npx.set_np()"
   ]
  },
  {
   "cell_type": "code",
   "execution_count": null,
   "metadata": {
    "id": "puu5KlkBRzSm"
   },
   "outputs": [],
   "source": [
    "#!pip install d2l\n",
    "#import d2l"
   ]
  },
  {
   "cell_type": "code",
   "execution_count": null,
   "metadata": {
    "id": "iYklJmryXYon"
   },
   "outputs": [],
   "source": [
    "#class LSTMScratch(d2l.Module):\n",
    "#    def __init__(self, num_inputs, num_hiddens, sigma=0.01):\n",
    "#        super().__init__()\n",
    "#        self.save_hyperparameters()\n",
    "#\n",
    "#        init_weight = lambda *shape: np.random.randn(*shape) * sigma\n",
    "#        triple = lambda: (init_weight(num_inputs, num_hiddens),\n",
    "#                          init_weight(num_hiddens, num_hiddens),\n",
    "#                          np.zeros(num_hiddens))\n",
    "#        self.W_xi, self.W_hi, self.b_i = triple()  # Input gate\n",
    "#        self.W_xf, self.W_hf, self.b_f = triple()  # Forget gate\n",
    "#        self.W_xo, self.W_ho, self.b_o = triple()  # Output gate\n",
    "#        self.W_xc, self.W_hc, self.b_c = triple()  # Input node"
   ]
  },
  {
   "cell_type": "markdown",
   "metadata": {
    "id": "kE2svhheKsS5"
   },
   "source": [
    "logistic regression"
   ]
  },
  {
   "cell_type": "code",
   "execution_count": 17,
   "metadata": {
    "id": "cPbmuoojRa7e"
   },
   "outputs": [],
   "source": [
    "import matplotlib.pyplot as plt\n",
    "import seaborn as sns\n",
    "from sklearn.linear_model import LogisticRegression\n",
    "from sklearn.model_selection import train_test_split\n",
    "from sklearn.metrics import confusion_matrix\n",
    "from sklearn.metrics import roc_curve\n",
    "from sklearn.metrics import roc_auc_score\n",
    "from sklearn.preprocessing import StandardScaler"
   ]
  },
  {
   "cell_type": "code",
   "execution_count": null,
   "metadata": {
    "id": "L9xAD1mZefPC"
   },
   "outputs": [],
   "source": [
    "# Sample DataFrame\n",
    "#data = {'DateTime': ['2023-09-09 00:00:20', '2023-09-10 01:30:45', '2023-09-11 12:15:30']}\n",
    "#df = pd.DataFrame(data)\n",
    "\n",
    "# Convert 'DateTime' column to datetime64 datatype\n",
    "#df['Device_Time'] = pd.to_datetime(df['Device_Time'], format='%Y-%m-%d %H:%M:%S')\n",
    "\n",
    "# Check the DataFrame after conversion\n",
    "#print(df)\n"
   ]
  },
  {
   "cell_type": "code",
   "execution_count": 18,
   "metadata": {
    "id": "hIA-NgQ0KqjY"
   },
   "outputs": [],
   "source": [
    "X_train = df.SN\n",
    "y_train = df.SOC"
   ]
  },
  {
   "cell_type": "code",
   "execution_count": 19,
   "metadata": {
    "colab": {
     "base_uri": "https://localhost:8080/",
     "height": 394
    },
    "id": "NwlryyDPhreT",
    "outputId": "40dbcc17-786c-4e04-becb-002cb82a47a3"
   },
   "outputs": [
    {
     "data": {
      "text/html": [
       "<div>\n",
       "<style scoped>\n",
       "    .dataframe tbody tr th:only-of-type {\n",
       "        vertical-align: middle;\n",
       "    }\n",
       "\n",
       "    .dataframe tbody tr th {\n",
       "        vertical-align: top;\n",
       "    }\n",
       "\n",
       "    .dataframe thead th {\n",
       "        text-align: right;\n",
       "    }\n",
       "</style>\n",
       "<table border=\"1\" class=\"dataframe\">\n",
       "  <thead>\n",
       "    <tr style=\"text-align: right;\">\n",
       "      <th></th>\n",
       "      <th>SN</th>\n",
       "      <th>Device_Time</th>\n",
       "      <th>Sys_State</th>\n",
       "      <th>SOC</th>\n",
       "      <th>SOH</th>\n",
       "      <th>Pack Volt.(V)</th>\n",
       "      <th>/Current(A)</th>\n",
       "      <th>System Insul. Resis.(KΩ)</th>\n",
       "      <th>Positive Insul. Resis.(KΩ)</th>\n",
       "      <th>Insul. Neg. Resis.(KΩ)</th>\n",
       "      <th>...</th>\n",
       "      <th>HV4(V)</th>\n",
       "      <th>HV5(V)</th>\n",
       "      <th>hvbpos(V)</th>\n",
       "      <th>Chg Req Volt (V)</th>\n",
       "      <th>Chg Req Curr(A)</th>\n",
       "      <th>supplyVolt(mV)</th>\n",
       "      <th>day</th>\n",
       "      <th>month</th>\n",
       "      <th>hour</th>\n",
       "      <th>weekday</th>\n",
       "    </tr>\n",
       "  </thead>\n",
       "  <tbody>\n",
       "    <tr>\n",
       "      <th>0</th>\n",
       "      <td>1</td>\n",
       "      <td>2023-09-09 00:00:20</td>\n",
       "      <td>Discharging</td>\n",
       "      <td>96.0</td>\n",
       "      <td>98.9</td>\n",
       "      <td>75.9</td>\n",
       "      <td>-17.6</td>\n",
       "      <td>65535</td>\n",
       "      <td>65535</td>\n",
       "      <td>65535</td>\n",
       "      <td>...</td>\n",
       "      <td>6553.5</td>\n",
       "      <td>6553.5</td>\n",
       "      <td>75.9</td>\n",
       "      <td>82.8</td>\n",
       "      <td>100.0</td>\n",
       "      <td>11355</td>\n",
       "      <td>9</td>\n",
       "      <td>9</td>\n",
       "      <td>0</td>\n",
       "      <td>5</td>\n",
       "    </tr>\n",
       "    <tr>\n",
       "      <th>1</th>\n",
       "      <td>2</td>\n",
       "      <td>2023-09-09 00:00:51</td>\n",
       "      <td>Discharging</td>\n",
       "      <td>95.9</td>\n",
       "      <td>98.9</td>\n",
       "      <td>76.2</td>\n",
       "      <td>-7.5</td>\n",
       "      <td>65535</td>\n",
       "      <td>65535</td>\n",
       "      <td>65535</td>\n",
       "      <td>...</td>\n",
       "      <td>6553.5</td>\n",
       "      <td>6553.5</td>\n",
       "      <td>76.2</td>\n",
       "      <td>82.8</td>\n",
       "      <td>100.0</td>\n",
       "      <td>11372</td>\n",
       "      <td>9</td>\n",
       "      <td>9</td>\n",
       "      <td>0</td>\n",
       "      <td>5</td>\n",
       "    </tr>\n",
       "    <tr>\n",
       "      <th>2</th>\n",
       "      <td>3</td>\n",
       "      <td>2023-09-09 00:01:21</td>\n",
       "      <td>Discharging</td>\n",
       "      <td>95.7</td>\n",
       "      <td>98.9</td>\n",
       "      <td>76.1</td>\n",
       "      <td>-31.1</td>\n",
       "      <td>65535</td>\n",
       "      <td>65535</td>\n",
       "      <td>65535</td>\n",
       "      <td>...</td>\n",
       "      <td>6553.5</td>\n",
       "      <td>6553.5</td>\n",
       "      <td>76.0</td>\n",
       "      <td>82.8</td>\n",
       "      <td>100.0</td>\n",
       "      <td>11372</td>\n",
       "      <td>9</td>\n",
       "      <td>9</td>\n",
       "      <td>0</td>\n",
       "      <td>5</td>\n",
       "    </tr>\n",
       "    <tr>\n",
       "      <th>3</th>\n",
       "      <td>4</td>\n",
       "      <td>2023-09-09 00:01:52</td>\n",
       "      <td>Discharging</td>\n",
       "      <td>95.6</td>\n",
       "      <td>98.9</td>\n",
       "      <td>76.1</td>\n",
       "      <td>-34.6</td>\n",
       "      <td>65535</td>\n",
       "      <td>65535</td>\n",
       "      <td>65535</td>\n",
       "      <td>...</td>\n",
       "      <td>6553.5</td>\n",
       "      <td>6553.5</td>\n",
       "      <td>76.1</td>\n",
       "      <td>82.8</td>\n",
       "      <td>100.0</td>\n",
       "      <td>11372</td>\n",
       "      <td>9</td>\n",
       "      <td>9</td>\n",
       "      <td>0</td>\n",
       "      <td>5</td>\n",
       "    </tr>\n",
       "    <tr>\n",
       "      <th>4</th>\n",
       "      <td>5</td>\n",
       "      <td>2023-09-09 00:02:23</td>\n",
       "      <td>Discharging</td>\n",
       "      <td>95.6</td>\n",
       "      <td>98.9</td>\n",
       "      <td>76.6</td>\n",
       "      <td>2.4</td>\n",
       "      <td>65535</td>\n",
       "      <td>65535</td>\n",
       "      <td>65535</td>\n",
       "      <td>...</td>\n",
       "      <td>6553.5</td>\n",
       "      <td>6553.5</td>\n",
       "      <td>76.4</td>\n",
       "      <td>82.8</td>\n",
       "      <td>100.0</td>\n",
       "      <td>11372</td>\n",
       "      <td>9</td>\n",
       "      <td>9</td>\n",
       "      <td>0</td>\n",
       "      <td>5</td>\n",
       "    </tr>\n",
       "  </tbody>\n",
       "</table>\n",
       "<p>5 rows × 72 columns</p>\n",
       "</div>"
      ],
      "text/plain": [
       "   SN         Device_Time    Sys_State   SOC   SOH  Pack Volt.(V)  \\\n",
       "0   1 2023-09-09 00:00:20  Discharging  96.0  98.9           75.9   \n",
       "1   2 2023-09-09 00:00:51  Discharging  95.9  98.9           76.2   \n",
       "2   3 2023-09-09 00:01:21  Discharging  95.7  98.9           76.1   \n",
       "3   4 2023-09-09 00:01:52  Discharging  95.6  98.9           76.1   \n",
       "4   5 2023-09-09 00:02:23  Discharging  95.6  98.9           76.6   \n",
       "\n",
       "   /Current(A)  System Insul. Resis.(KΩ)  Positive Insul. Resis.(KΩ)  \\\n",
       "0        -17.6                     65535                       65535   \n",
       "1         -7.5                     65535                       65535   \n",
       "2        -31.1                     65535                       65535   \n",
       "3        -34.6                     65535                       65535   \n",
       "4          2.4                     65535                       65535   \n",
       "\n",
       "   Insul. Neg. Resis.(KΩ)  ...  HV4(V)  HV5(V)  hvbpos(V)  Chg Req Volt (V)  \\\n",
       "0                   65535  ...  6553.5  6553.5       75.9              82.8   \n",
       "1                   65535  ...  6553.5  6553.5       76.2              82.8   \n",
       "2                   65535  ...  6553.5  6553.5       76.0              82.8   \n",
       "3                   65535  ...  6553.5  6553.5       76.1              82.8   \n",
       "4                   65535  ...  6553.5  6553.5       76.4              82.8   \n",
       "\n",
       "   Chg Req Curr(A)  supplyVolt(mV)  day  month  hour  weekday  \n",
       "0            100.0           11355    9      9     0        5  \n",
       "1            100.0           11372    9      9     0        5  \n",
       "2            100.0           11372    9      9     0        5  \n",
       "3            100.0           11372    9      9     0        5  \n",
       "4            100.0           11372    9      9     0        5  \n",
       "\n",
       "[5 rows x 72 columns]"
      ]
     },
     "execution_count": 19,
     "metadata": {},
     "output_type": "execute_result"
    }
   ],
   "source": [
    "df.head()"
   ]
  },
  {
   "cell_type": "code",
   "execution_count": 20,
   "metadata": {
    "colab": {
     "base_uri": "https://localhost:8080/"
    },
    "id": "JHFZCd3jh4lA",
    "outputId": "0466a751-f0af-4088-c303-5d837a9e94f0"
   },
   "outputs": [
    {
     "data": {
      "text/plain": [
       "(17006, 72)"
      ]
     },
     "execution_count": 20,
     "metadata": {},
     "output_type": "execute_result"
    }
   ],
   "source": [
    "df.shape"
   ]
  },
  {
   "cell_type": "code",
   "execution_count": 21,
   "metadata": {
    "id": "3c8yir2Rh7D6"
   },
   "outputs": [],
   "source": [
    "X_train=df.iloc[0:10000, ]\n",
    "X_test=df.iloc[10000:, ]"
   ]
  },
  {
   "cell_type": "code",
   "execution_count": 22,
   "metadata": {
    "id": "PUTxl4Rv-6jq"
   },
   "outputs": [],
   "source": [
    "y_train=df.iloc[0:10000,]\n",
    "y_test=df.iloc[10000:,]"
   ]
  },
  {
   "cell_type": "code",
   "execution_count": 23,
   "metadata": {
    "id": "XNhSqScpK-Nh"
   },
   "outputs": [],
   "source": [
    "X_train, X_test, y_train, y_test = train_test_split(X_train, y_train, test_size=0.3)"
   ]
  },
  {
   "cell_type": "code",
   "execution_count": 24,
   "metadata": {
    "colab": {
     "base_uri": "https://localhost:8080/"
    },
    "id": "4XP7R3LCpm6k",
    "outputId": "4b957e40-9c6b-45fd-a2cf-cc9bab8829a2"
   },
   "outputs": [
    {
     "name": "stdout",
     "output_type": "stream",
     "text": [
      "<bound method DataFrame.info of         SN         Device_Time    Sys_State   SOC   SOH  Pack Volt.(V)  \\\n",
      "9376  9377 2023-09-12 09:27:04  Discharging   1.3  98.8           73.1   \n",
      "7083  7084 2023-09-11 13:26:34  Discharging  43.8  98.8           75.7   \n",
      "1856  1857 2023-09-09 15:54:10  Discharging  59.4  98.9           75.8   \n",
      "4668  4669 2023-09-10 16:01:59  Discharging  92.8  98.8           76.7   \n",
      "6906  6907 2023-09-11 11:56:24  Discharging  52.9  98.8           75.2   \n",
      "...    ...                 ...          ...   ...   ...            ...   \n",
      "4443  4444 2023-09-10 14:07:22  Discharging  96.4  98.8           76.7   \n",
      "3790  3791 2023-09-10 08:23:29  Discharging  87.9  98.9           76.6   \n",
      "3334  3335 2023-09-10 04:28:34  Discharging  92.2  98.9           76.6   \n",
      "4690  4691 2023-09-10 16:13:12  Discharging  92.8  98.8           76.7   \n",
      "698    699 2023-09-09 05:55:56  Discharging  91.1  98.9           76.7   \n",
      "\n",
      "      /Current(A)  System Insul. Resis.(KΩ)  Positive Insul. Resis.(KΩ)  \\\n",
      "9376        -32.0                     65535                       65535   \n",
      "7083          0.0                     65535                       65535   \n",
      "1856         -5.4                     65535                       65535   \n",
      "4668          0.0                     65535                       65535   \n",
      "6906         -3.2                     65535                       65535   \n",
      "...           ...                       ...                         ...   \n",
      "4443          0.0                     65535                       65535   \n",
      "3790          0.0                     65535                       65535   \n",
      "3334          0.0                     65535                       65535   \n",
      "4690          0.0                     65535                       65535   \n",
      "698           0.0                     65535                       65535   \n",
      "\n",
      "      Insul. Neg. Resis.(KΩ)  ...  HV4(V)  HV5(V)  hvbpos(V)  \\\n",
      "9376                   65535  ...  6553.5  6553.5       72.9   \n",
      "7083                   65535  ...  6553.5  6553.5       75.7   \n",
      "1856                   65535  ...  6553.5  6553.5       75.8   \n",
      "4668                   65535  ...  6553.5  6553.5       76.7   \n",
      "6906                   65535  ...  6553.5  6553.5       75.4   \n",
      "...                      ...  ...     ...     ...        ...   \n",
      "4443                   65535  ...  6553.5  6553.5       76.7   \n",
      "3790                   65535  ...  6553.5  6553.5       76.6   \n",
      "3334                   65535  ...  6553.5  6553.5       76.6   \n",
      "4690                   65535  ...  6553.5  6553.5       76.7   \n",
      "698                    65535  ...  6553.5  6553.5       76.7   \n",
      "\n",
      "      Chg Req Volt (V)  Chg Req Curr(A)  supplyVolt(mV)  day  month  hour  \\\n",
      "9376               0.0              0.0           11355   12      9     9   \n",
      "7083               0.0              0.0           11372   11      9    13   \n",
      "1856              82.8            100.0           11372    9      9    15   \n",
      "4668               0.0              0.0           11389   10      9    16   \n",
      "6906               0.0              0.0           11355   11      9    11   \n",
      "...                ...              ...             ...  ...    ...   ...   \n",
      "4443               0.0              0.0           11389   10      9    14   \n",
      "3790               0.0              0.0           11355   10      9     8   \n",
      "3334               0.0              0.0           11355   10      9     4   \n",
      "4690               0.0              0.0           11355   10      9    16   \n",
      "698               82.8            100.0           11355    9      9     5   \n",
      "\n",
      "      weekday  \n",
      "9376        1  \n",
      "7083        0  \n",
      "1856        5  \n",
      "4668        6  \n",
      "6906        0  \n",
      "...       ...  \n",
      "4443        6  \n",
      "3790        6  \n",
      "3334        6  \n",
      "4690        6  \n",
      "698         5  \n",
      "\n",
      "[7000 rows x 72 columns]>\n"
     ]
    }
   ],
   "source": [
    "print(X_train.info)"
   ]
  },
  {
   "cell_type": "code",
   "execution_count": 25,
   "metadata": {
    "colab": {
     "base_uri": "https://localhost:8080/",
     "height": 669
    },
    "id": "53fIxDCRokr2",
    "outputId": "8573d36f-8a70-495a-f06a-aae967867aec"
   },
   "outputs": [
    {
     "data": {
      "text/html": [
       "<div>\n",
       "<style scoped>\n",
       "    .dataframe tbody tr th:only-of-type {\n",
       "        vertical-align: middle;\n",
       "    }\n",
       "\n",
       "    .dataframe tbody tr th {\n",
       "        vertical-align: top;\n",
       "    }\n",
       "\n",
       "    .dataframe thead th {\n",
       "        text-align: right;\n",
       "    }\n",
       "</style>\n",
       "<table border=\"1\" class=\"dataframe\">\n",
       "  <thead>\n",
       "    <tr style=\"text-align: right;\">\n",
       "      <th></th>\n",
       "      <th>SN</th>\n",
       "      <th>Device_Time</th>\n",
       "      <th>Sys_State</th>\n",
       "      <th>SOC</th>\n",
       "      <th>SOH</th>\n",
       "      <th>Pack Volt.(V)</th>\n",
       "      <th>/Current(A)</th>\n",
       "      <th>System Insul. Resis.(KΩ)</th>\n",
       "      <th>Positive Insul. Resis.(KΩ)</th>\n",
       "      <th>Insul. Neg. Resis.(KΩ)</th>\n",
       "      <th>...</th>\n",
       "      <th>HV4(V)</th>\n",
       "      <th>HV5(V)</th>\n",
       "      <th>hvbpos(V)</th>\n",
       "      <th>Chg Req Volt (V)</th>\n",
       "      <th>Chg Req Curr(A)</th>\n",
       "      <th>supplyVolt(mV)</th>\n",
       "      <th>day</th>\n",
       "      <th>month</th>\n",
       "      <th>hour</th>\n",
       "      <th>weekday</th>\n",
       "    </tr>\n",
       "  </thead>\n",
       "  <tbody>\n",
       "    <tr>\n",
       "      <th>9376</th>\n",
       "      <td>9377</td>\n",
       "      <td>2023-09-12 09:27:04</td>\n",
       "      <td>Discharging</td>\n",
       "      <td>1.3</td>\n",
       "      <td>98.8</td>\n",
       "      <td>73.1</td>\n",
       "      <td>-32.0</td>\n",
       "      <td>65535</td>\n",
       "      <td>65535</td>\n",
       "      <td>65535</td>\n",
       "      <td>...</td>\n",
       "      <td>6553.5</td>\n",
       "      <td>6553.5</td>\n",
       "      <td>72.9</td>\n",
       "      <td>0.0</td>\n",
       "      <td>0.0</td>\n",
       "      <td>11355</td>\n",
       "      <td>12</td>\n",
       "      <td>9</td>\n",
       "      <td>9</td>\n",
       "      <td>1</td>\n",
       "    </tr>\n",
       "    <tr>\n",
       "      <th>7083</th>\n",
       "      <td>7084</td>\n",
       "      <td>2023-09-11 13:26:34</td>\n",
       "      <td>Discharging</td>\n",
       "      <td>43.8</td>\n",
       "      <td>98.8</td>\n",
       "      <td>75.7</td>\n",
       "      <td>0.0</td>\n",
       "      <td>65535</td>\n",
       "      <td>65535</td>\n",
       "      <td>65535</td>\n",
       "      <td>...</td>\n",
       "      <td>6553.5</td>\n",
       "      <td>6553.5</td>\n",
       "      <td>75.7</td>\n",
       "      <td>0.0</td>\n",
       "      <td>0.0</td>\n",
       "      <td>11372</td>\n",
       "      <td>11</td>\n",
       "      <td>9</td>\n",
       "      <td>13</td>\n",
       "      <td>0</td>\n",
       "    </tr>\n",
       "    <tr>\n",
       "      <th>1856</th>\n",
       "      <td>1857</td>\n",
       "      <td>2023-09-09 15:54:10</td>\n",
       "      <td>Discharging</td>\n",
       "      <td>59.4</td>\n",
       "      <td>98.9</td>\n",
       "      <td>75.8</td>\n",
       "      <td>-5.4</td>\n",
       "      <td>65535</td>\n",
       "      <td>65535</td>\n",
       "      <td>65535</td>\n",
       "      <td>...</td>\n",
       "      <td>6553.5</td>\n",
       "      <td>6553.5</td>\n",
       "      <td>75.8</td>\n",
       "      <td>82.8</td>\n",
       "      <td>100.0</td>\n",
       "      <td>11372</td>\n",
       "      <td>9</td>\n",
       "      <td>9</td>\n",
       "      <td>15</td>\n",
       "      <td>5</td>\n",
       "    </tr>\n",
       "    <tr>\n",
       "      <th>4668</th>\n",
       "      <td>4669</td>\n",
       "      <td>2023-09-10 16:01:59</td>\n",
       "      <td>Discharging</td>\n",
       "      <td>92.8</td>\n",
       "      <td>98.8</td>\n",
       "      <td>76.7</td>\n",
       "      <td>0.0</td>\n",
       "      <td>65535</td>\n",
       "      <td>65535</td>\n",
       "      <td>65535</td>\n",
       "      <td>...</td>\n",
       "      <td>6553.5</td>\n",
       "      <td>6553.5</td>\n",
       "      <td>76.7</td>\n",
       "      <td>0.0</td>\n",
       "      <td>0.0</td>\n",
       "      <td>11389</td>\n",
       "      <td>10</td>\n",
       "      <td>9</td>\n",
       "      <td>16</td>\n",
       "      <td>6</td>\n",
       "    </tr>\n",
       "    <tr>\n",
       "      <th>6906</th>\n",
       "      <td>6907</td>\n",
       "      <td>2023-09-11 11:56:24</td>\n",
       "      <td>Discharging</td>\n",
       "      <td>52.9</td>\n",
       "      <td>98.8</td>\n",
       "      <td>75.2</td>\n",
       "      <td>-3.2</td>\n",
       "      <td>65535</td>\n",
       "      <td>65535</td>\n",
       "      <td>65535</td>\n",
       "      <td>...</td>\n",
       "      <td>6553.5</td>\n",
       "      <td>6553.5</td>\n",
       "      <td>75.4</td>\n",
       "      <td>0.0</td>\n",
       "      <td>0.0</td>\n",
       "      <td>11355</td>\n",
       "      <td>11</td>\n",
       "      <td>9</td>\n",
       "      <td>11</td>\n",
       "      <td>0</td>\n",
       "    </tr>\n",
       "    <tr>\n",
       "      <th>...</th>\n",
       "      <td>...</td>\n",
       "      <td>...</td>\n",
       "      <td>...</td>\n",
       "      <td>...</td>\n",
       "      <td>...</td>\n",
       "      <td>...</td>\n",
       "      <td>...</td>\n",
       "      <td>...</td>\n",
       "      <td>...</td>\n",
       "      <td>...</td>\n",
       "      <td>...</td>\n",
       "      <td>...</td>\n",
       "      <td>...</td>\n",
       "      <td>...</td>\n",
       "      <td>...</td>\n",
       "      <td>...</td>\n",
       "      <td>...</td>\n",
       "      <td>...</td>\n",
       "      <td>...</td>\n",
       "      <td>...</td>\n",
       "      <td>...</td>\n",
       "    </tr>\n",
       "    <tr>\n",
       "      <th>4443</th>\n",
       "      <td>4444</td>\n",
       "      <td>2023-09-10 14:07:22</td>\n",
       "      <td>Discharging</td>\n",
       "      <td>96.4</td>\n",
       "      <td>98.8</td>\n",
       "      <td>76.7</td>\n",
       "      <td>0.0</td>\n",
       "      <td>65535</td>\n",
       "      <td>65535</td>\n",
       "      <td>65535</td>\n",
       "      <td>...</td>\n",
       "      <td>6553.5</td>\n",
       "      <td>6553.5</td>\n",
       "      <td>76.7</td>\n",
       "      <td>0.0</td>\n",
       "      <td>0.0</td>\n",
       "      <td>11389</td>\n",
       "      <td>10</td>\n",
       "      <td>9</td>\n",
       "      <td>14</td>\n",
       "      <td>6</td>\n",
       "    </tr>\n",
       "    <tr>\n",
       "      <th>3790</th>\n",
       "      <td>3791</td>\n",
       "      <td>2023-09-10 08:23:29</td>\n",
       "      <td>Discharging</td>\n",
       "      <td>87.9</td>\n",
       "      <td>98.9</td>\n",
       "      <td>76.6</td>\n",
       "      <td>0.0</td>\n",
       "      <td>65535</td>\n",
       "      <td>65535</td>\n",
       "      <td>65535</td>\n",
       "      <td>...</td>\n",
       "      <td>6553.5</td>\n",
       "      <td>6553.5</td>\n",
       "      <td>76.6</td>\n",
       "      <td>0.0</td>\n",
       "      <td>0.0</td>\n",
       "      <td>11355</td>\n",
       "      <td>10</td>\n",
       "      <td>9</td>\n",
       "      <td>8</td>\n",
       "      <td>6</td>\n",
       "    </tr>\n",
       "    <tr>\n",
       "      <th>3334</th>\n",
       "      <td>3335</td>\n",
       "      <td>2023-09-10 04:28:34</td>\n",
       "      <td>Discharging</td>\n",
       "      <td>92.2</td>\n",
       "      <td>98.9</td>\n",
       "      <td>76.6</td>\n",
       "      <td>0.0</td>\n",
       "      <td>65535</td>\n",
       "      <td>65535</td>\n",
       "      <td>65535</td>\n",
       "      <td>...</td>\n",
       "      <td>6553.5</td>\n",
       "      <td>6553.5</td>\n",
       "      <td>76.6</td>\n",
       "      <td>0.0</td>\n",
       "      <td>0.0</td>\n",
       "      <td>11355</td>\n",
       "      <td>10</td>\n",
       "      <td>9</td>\n",
       "      <td>4</td>\n",
       "      <td>6</td>\n",
       "    </tr>\n",
       "    <tr>\n",
       "      <th>4690</th>\n",
       "      <td>4691</td>\n",
       "      <td>2023-09-10 16:13:12</td>\n",
       "      <td>Discharging</td>\n",
       "      <td>92.8</td>\n",
       "      <td>98.8</td>\n",
       "      <td>76.7</td>\n",
       "      <td>0.0</td>\n",
       "      <td>65535</td>\n",
       "      <td>65535</td>\n",
       "      <td>65535</td>\n",
       "      <td>...</td>\n",
       "      <td>6553.5</td>\n",
       "      <td>6553.5</td>\n",
       "      <td>76.7</td>\n",
       "      <td>0.0</td>\n",
       "      <td>0.0</td>\n",
       "      <td>11355</td>\n",
       "      <td>10</td>\n",
       "      <td>9</td>\n",
       "      <td>16</td>\n",
       "      <td>6</td>\n",
       "    </tr>\n",
       "    <tr>\n",
       "      <th>698</th>\n",
       "      <td>699</td>\n",
       "      <td>2023-09-09 05:55:56</td>\n",
       "      <td>Discharging</td>\n",
       "      <td>91.1</td>\n",
       "      <td>98.9</td>\n",
       "      <td>76.7</td>\n",
       "      <td>0.0</td>\n",
       "      <td>65535</td>\n",
       "      <td>65535</td>\n",
       "      <td>65535</td>\n",
       "      <td>...</td>\n",
       "      <td>6553.5</td>\n",
       "      <td>6553.5</td>\n",
       "      <td>76.7</td>\n",
       "      <td>82.8</td>\n",
       "      <td>100.0</td>\n",
       "      <td>11355</td>\n",
       "      <td>9</td>\n",
       "      <td>9</td>\n",
       "      <td>5</td>\n",
       "      <td>5</td>\n",
       "    </tr>\n",
       "  </tbody>\n",
       "</table>\n",
       "<p>7000 rows × 72 columns</p>\n",
       "</div>"
      ],
      "text/plain": [
       "        SN         Device_Time    Sys_State   SOC   SOH  Pack Volt.(V)  \\\n",
       "9376  9377 2023-09-12 09:27:04  Discharging   1.3  98.8           73.1   \n",
       "7083  7084 2023-09-11 13:26:34  Discharging  43.8  98.8           75.7   \n",
       "1856  1857 2023-09-09 15:54:10  Discharging  59.4  98.9           75.8   \n",
       "4668  4669 2023-09-10 16:01:59  Discharging  92.8  98.8           76.7   \n",
       "6906  6907 2023-09-11 11:56:24  Discharging  52.9  98.8           75.2   \n",
       "...    ...                 ...          ...   ...   ...            ...   \n",
       "4443  4444 2023-09-10 14:07:22  Discharging  96.4  98.8           76.7   \n",
       "3790  3791 2023-09-10 08:23:29  Discharging  87.9  98.9           76.6   \n",
       "3334  3335 2023-09-10 04:28:34  Discharging  92.2  98.9           76.6   \n",
       "4690  4691 2023-09-10 16:13:12  Discharging  92.8  98.8           76.7   \n",
       "698    699 2023-09-09 05:55:56  Discharging  91.1  98.9           76.7   \n",
       "\n",
       "      /Current(A)  System Insul. Resis.(KΩ)  Positive Insul. Resis.(KΩ)  \\\n",
       "9376        -32.0                     65535                       65535   \n",
       "7083          0.0                     65535                       65535   \n",
       "1856         -5.4                     65535                       65535   \n",
       "4668          0.0                     65535                       65535   \n",
       "6906         -3.2                     65535                       65535   \n",
       "...           ...                       ...                         ...   \n",
       "4443          0.0                     65535                       65535   \n",
       "3790          0.0                     65535                       65535   \n",
       "3334          0.0                     65535                       65535   \n",
       "4690          0.0                     65535                       65535   \n",
       "698           0.0                     65535                       65535   \n",
       "\n",
       "      Insul. Neg. Resis.(KΩ)  ...  HV4(V)  HV5(V)  hvbpos(V)  \\\n",
       "9376                   65535  ...  6553.5  6553.5       72.9   \n",
       "7083                   65535  ...  6553.5  6553.5       75.7   \n",
       "1856                   65535  ...  6553.5  6553.5       75.8   \n",
       "4668                   65535  ...  6553.5  6553.5       76.7   \n",
       "6906                   65535  ...  6553.5  6553.5       75.4   \n",
       "...                      ...  ...     ...     ...        ...   \n",
       "4443                   65535  ...  6553.5  6553.5       76.7   \n",
       "3790                   65535  ...  6553.5  6553.5       76.6   \n",
       "3334                   65535  ...  6553.5  6553.5       76.6   \n",
       "4690                   65535  ...  6553.5  6553.5       76.7   \n",
       "698                    65535  ...  6553.5  6553.5       76.7   \n",
       "\n",
       "      Chg Req Volt (V)  Chg Req Curr(A)  supplyVolt(mV)  day  month  hour  \\\n",
       "9376               0.0              0.0           11355   12      9     9   \n",
       "7083               0.0              0.0           11372   11      9    13   \n",
       "1856              82.8            100.0           11372    9      9    15   \n",
       "4668               0.0              0.0           11389   10      9    16   \n",
       "6906               0.0              0.0           11355   11      9    11   \n",
       "...                ...              ...             ...  ...    ...   ...   \n",
       "4443               0.0              0.0           11389   10      9    14   \n",
       "3790               0.0              0.0           11355   10      9     8   \n",
       "3334               0.0              0.0           11355   10      9     4   \n",
       "4690               0.0              0.0           11355   10      9    16   \n",
       "698               82.8            100.0           11355    9      9     5   \n",
       "\n",
       "      weekday  \n",
       "9376        1  \n",
       "7083        0  \n",
       "1856        5  \n",
       "4668        6  \n",
       "6906        0  \n",
       "...       ...  \n",
       "4443        6  \n",
       "3790        6  \n",
       "3334        6  \n",
       "4690        6  \n",
       "698         5  \n",
       "\n",
       "[7000 rows x 72 columns]"
      ]
     },
     "execution_count": 25,
     "metadata": {},
     "output_type": "execute_result"
    }
   ],
   "source": [
    "y_train"
   ]
  },
  {
   "cell_type": "code",
   "execution_count": 26,
   "metadata": {
    "colab": {
     "base_uri": "https://localhost:8080/",
     "height": 356
    },
    "id": "JIUyLzn4lh0r",
    "outputId": "766b95c6-abe3-4c86-8256-8d15ef51302b"
   },
   "outputs": [
    {
     "ename": "TypeError",
     "evalue": "float() argument must be a string or a real number, not 'Timestamp'",
     "output_type": "error",
     "traceback": [
      "\u001b[1;31m---------------------------------------------------------------------------\u001b[0m",
      "\u001b[1;31mTypeError\u001b[0m                                 Traceback (most recent call last)",
      "\u001b[1;32m~\\AppData\\Local\\Temp\\ipykernel_18028\\2372502545.py\u001b[0m in \u001b[0;36m?\u001b[1;34m()\u001b[0m\n\u001b[0;32m      1\u001b[0m \u001b[1;31m# Train the Logistic Regression model\u001b[0m\u001b[1;33m\u001b[0m\u001b[1;33m\u001b[0m\u001b[0m\n\u001b[0;32m      2\u001b[0m \u001b[0mlr\u001b[0m \u001b[1;33m=\u001b[0m \u001b[0mLogisticRegression\u001b[0m\u001b[1;33m(\u001b[0m\u001b[1;33m)\u001b[0m\u001b[1;33m\u001b[0m\u001b[1;33m\u001b[0m\u001b[0m\n\u001b[1;32m----> 3\u001b[1;33m \u001b[0mlr\u001b[0m\u001b[1;33m.\u001b[0m\u001b[0mfit\u001b[0m\u001b[1;33m(\u001b[0m\u001b[0mX_train\u001b[0m\u001b[1;33m,\u001b[0m \u001b[0my_train\u001b[0m\u001b[1;33m)\u001b[0m\u001b[1;33m\u001b[0m\u001b[1;33m\u001b[0m\u001b[0m\n\u001b[0m\u001b[0;32m      4\u001b[0m \u001b[1;33m\u001b[0m\u001b[0m\n\u001b[0;32m      5\u001b[0m \u001b[0my_pred\u001b[0m \u001b[1;33m=\u001b[0m \u001b[0mlr\u001b[0m\u001b[1;33m.\u001b[0m\u001b[0mpredict\u001b[0m\u001b[1;33m(\u001b[0m\u001b[0mX_test\u001b[0m\u001b[1;33m)\u001b[0m\u001b[1;33m\u001b[0m\u001b[1;33m\u001b[0m\u001b[0m\n",
      "\u001b[1;32m~\\AppData\\Local\\Programs\\Python\\Python312\\Lib\\site-packages\\sklearn\\base.py\u001b[0m in \u001b[0;36m?\u001b[1;34m(estimator, *args, **kwargs)\u001b[0m\n\u001b[0;32m   1347\u001b[0m                 skip_parameter_validation=(\n\u001b[0;32m   1348\u001b[0m                     \u001b[0mprefer_skip_nested_validation\u001b[0m \u001b[1;32mor\u001b[0m \u001b[0mglobal_skip_validation\u001b[0m\u001b[1;33m\u001b[0m\u001b[1;33m\u001b[0m\u001b[0m\n\u001b[0;32m   1349\u001b[0m                 \u001b[1;33m)\u001b[0m\u001b[1;33m\u001b[0m\u001b[1;33m\u001b[0m\u001b[0m\n\u001b[0;32m   1350\u001b[0m             \u001b[1;33m)\u001b[0m\u001b[1;33m:\u001b[0m\u001b[1;33m\u001b[0m\u001b[1;33m\u001b[0m\u001b[0m\n\u001b[1;32m-> 1351\u001b[1;33m                 \u001b[1;32mreturn\u001b[0m \u001b[0mfit_method\u001b[0m\u001b[1;33m(\u001b[0m\u001b[0mestimator\u001b[0m\u001b[1;33m,\u001b[0m \u001b[1;33m*\u001b[0m\u001b[0margs\u001b[0m\u001b[1;33m,\u001b[0m \u001b[1;33m**\u001b[0m\u001b[0mkwargs\u001b[0m\u001b[1;33m)\u001b[0m\u001b[1;33m\u001b[0m\u001b[1;33m\u001b[0m\u001b[0m\n\u001b[0m",
      "\u001b[1;32m~\\AppData\\Local\\Programs\\Python\\Python312\\Lib\\site-packages\\sklearn\\linear_model\\_logistic.py\u001b[0m in \u001b[0;36m?\u001b[1;34m(self, X, y, sample_weight)\u001b[0m\n\u001b[0;32m   1197\u001b[0m             \u001b[0m_dtype\u001b[0m \u001b[1;33m=\u001b[0m \u001b[0mnp\u001b[0m\u001b[1;33m.\u001b[0m\u001b[0mfloat64\u001b[0m\u001b[1;33m\u001b[0m\u001b[1;33m\u001b[0m\u001b[0m\n\u001b[0;32m   1198\u001b[0m         \u001b[1;32melse\u001b[0m\u001b[1;33m:\u001b[0m\u001b[1;33m\u001b[0m\u001b[1;33m\u001b[0m\u001b[0m\n\u001b[0;32m   1199\u001b[0m             \u001b[0m_dtype\u001b[0m \u001b[1;33m=\u001b[0m \u001b[1;33m[\u001b[0m\u001b[0mnp\u001b[0m\u001b[1;33m.\u001b[0m\u001b[0mfloat64\u001b[0m\u001b[1;33m,\u001b[0m \u001b[0mnp\u001b[0m\u001b[1;33m.\u001b[0m\u001b[0mfloat32\u001b[0m\u001b[1;33m]\u001b[0m\u001b[1;33m\u001b[0m\u001b[1;33m\u001b[0m\u001b[0m\n\u001b[0;32m   1200\u001b[0m \u001b[1;33m\u001b[0m\u001b[0m\n\u001b[1;32m-> 1201\u001b[1;33m         X, y = self._validate_data(\n\u001b[0m\u001b[0;32m   1202\u001b[0m             \u001b[0mX\u001b[0m\u001b[1;33m,\u001b[0m\u001b[1;33m\u001b[0m\u001b[1;33m\u001b[0m\u001b[0m\n\u001b[0;32m   1203\u001b[0m             \u001b[0my\u001b[0m\u001b[1;33m,\u001b[0m\u001b[1;33m\u001b[0m\u001b[1;33m\u001b[0m\u001b[0m\n\u001b[0;32m   1204\u001b[0m             \u001b[0maccept_sparse\u001b[0m\u001b[1;33m=\u001b[0m\u001b[1;34m\"csr\"\u001b[0m\u001b[1;33m,\u001b[0m\u001b[1;33m\u001b[0m\u001b[1;33m\u001b[0m\u001b[0m\n",
      "\u001b[1;32m~\\AppData\\Local\\Programs\\Python\\Python312\\Lib\\site-packages\\sklearn\\base.py\u001b[0m in \u001b[0;36m?\u001b[1;34m(self, X, y, reset, validate_separately, cast_to_ndarray, **check_params)\u001b[0m\n\u001b[0;32m    646\u001b[0m                 \u001b[1;32mif\u001b[0m \u001b[1;34m\"estimator\"\u001b[0m \u001b[1;32mnot\u001b[0m \u001b[1;32min\u001b[0m \u001b[0mcheck_y_params\u001b[0m\u001b[1;33m:\u001b[0m\u001b[1;33m\u001b[0m\u001b[1;33m\u001b[0m\u001b[0m\n\u001b[0;32m    647\u001b[0m                     \u001b[0mcheck_y_params\u001b[0m \u001b[1;33m=\u001b[0m \u001b[1;33m{\u001b[0m\u001b[1;33m**\u001b[0m\u001b[0mdefault_check_params\u001b[0m\u001b[1;33m,\u001b[0m \u001b[1;33m**\u001b[0m\u001b[0mcheck_y_params\u001b[0m\u001b[1;33m}\u001b[0m\u001b[1;33m\u001b[0m\u001b[1;33m\u001b[0m\u001b[0m\n\u001b[0;32m    648\u001b[0m                 \u001b[0my\u001b[0m \u001b[1;33m=\u001b[0m \u001b[0mcheck_array\u001b[0m\u001b[1;33m(\u001b[0m\u001b[0my\u001b[0m\u001b[1;33m,\u001b[0m \u001b[0minput_name\u001b[0m\u001b[1;33m=\u001b[0m\u001b[1;34m\"y\"\u001b[0m\u001b[1;33m,\u001b[0m \u001b[1;33m**\u001b[0m\u001b[0mcheck_y_params\u001b[0m\u001b[1;33m)\u001b[0m\u001b[1;33m\u001b[0m\u001b[1;33m\u001b[0m\u001b[0m\n\u001b[0;32m    649\u001b[0m             \u001b[1;32melse\u001b[0m\u001b[1;33m:\u001b[0m\u001b[1;33m\u001b[0m\u001b[1;33m\u001b[0m\u001b[0m\n\u001b[1;32m--> 650\u001b[1;33m                 \u001b[0mX\u001b[0m\u001b[1;33m,\u001b[0m \u001b[0my\u001b[0m \u001b[1;33m=\u001b[0m \u001b[0mcheck_X_y\u001b[0m\u001b[1;33m(\u001b[0m\u001b[0mX\u001b[0m\u001b[1;33m,\u001b[0m \u001b[0my\u001b[0m\u001b[1;33m,\u001b[0m \u001b[1;33m**\u001b[0m\u001b[0mcheck_params\u001b[0m\u001b[1;33m)\u001b[0m\u001b[1;33m\u001b[0m\u001b[1;33m\u001b[0m\u001b[0m\n\u001b[0m\u001b[0;32m    651\u001b[0m             \u001b[0mout\u001b[0m \u001b[1;33m=\u001b[0m \u001b[0mX\u001b[0m\u001b[1;33m,\u001b[0m \u001b[0my\u001b[0m\u001b[1;33m\u001b[0m\u001b[1;33m\u001b[0m\u001b[0m\n\u001b[0;32m    652\u001b[0m \u001b[1;33m\u001b[0m\u001b[0m\n\u001b[0;32m    653\u001b[0m         \u001b[1;32mif\u001b[0m \u001b[1;32mnot\u001b[0m \u001b[0mno_val_X\u001b[0m \u001b[1;32mand\u001b[0m \u001b[0mcheck_params\u001b[0m\u001b[1;33m.\u001b[0m\u001b[0mget\u001b[0m\u001b[1;33m(\u001b[0m\u001b[1;34m\"ensure_2d\"\u001b[0m\u001b[1;33m,\u001b[0m \u001b[1;32mTrue\u001b[0m\u001b[1;33m)\u001b[0m\u001b[1;33m:\u001b[0m\u001b[1;33m\u001b[0m\u001b[1;33m\u001b[0m\u001b[0m\n",
      "\u001b[1;32m~\\AppData\\Local\\Programs\\Python\\Python312\\Lib\\site-packages\\sklearn\\utils\\validation.py\u001b[0m in \u001b[0;36m?\u001b[1;34m(X, y, accept_sparse, accept_large_sparse, dtype, order, copy, force_all_finite, ensure_2d, allow_nd, multi_output, ensure_min_samples, ensure_min_features, y_numeric, estimator)\u001b[0m\n\u001b[0;32m   1188\u001b[0m         raise ValueError(\n\u001b[0;32m   1189\u001b[0m             \u001b[1;33mf\"\u001b[0m\u001b[1;33m{\u001b[0m\u001b[0mestimator_name\u001b[0m\u001b[1;33m}\u001b[0m\u001b[1;33m requires y to be passed, but the target y is None\u001b[0m\u001b[1;33m\"\u001b[0m\u001b[1;33m\u001b[0m\u001b[1;33m\u001b[0m\u001b[0m\n\u001b[0;32m   1190\u001b[0m         \u001b[1;33m)\u001b[0m\u001b[1;33m\u001b[0m\u001b[1;33m\u001b[0m\u001b[0m\n\u001b[0;32m   1191\u001b[0m \u001b[1;33m\u001b[0m\u001b[0m\n\u001b[1;32m-> 1192\u001b[1;33m     X = check_array(\n\u001b[0m\u001b[0;32m   1193\u001b[0m         \u001b[0mX\u001b[0m\u001b[1;33m,\u001b[0m\u001b[1;33m\u001b[0m\u001b[1;33m\u001b[0m\u001b[0m\n\u001b[0;32m   1194\u001b[0m         \u001b[0maccept_sparse\u001b[0m\u001b[1;33m=\u001b[0m\u001b[0maccept_sparse\u001b[0m\u001b[1;33m,\u001b[0m\u001b[1;33m\u001b[0m\u001b[1;33m\u001b[0m\u001b[0m\n\u001b[0;32m   1195\u001b[0m         \u001b[0maccept_large_sparse\u001b[0m\u001b[1;33m=\u001b[0m\u001b[0maccept_large_sparse\u001b[0m\u001b[1;33m,\u001b[0m\u001b[1;33m\u001b[0m\u001b[1;33m\u001b[0m\u001b[0m\n",
      "\u001b[1;32m~\\AppData\\Local\\Programs\\Python\\Python312\\Lib\\site-packages\\sklearn\\utils\\validation.py\u001b[0m in \u001b[0;36m?\u001b[1;34m(array, accept_sparse, accept_large_sparse, dtype, order, copy, force_all_finite, ensure_2d, allow_nd, ensure_min_samples, ensure_min_features, estimator, input_name)\u001b[0m\n\u001b[0;32m    948\u001b[0m                         \u001b[1;33m)\u001b[0m\u001b[1;33m\u001b[0m\u001b[1;33m\u001b[0m\u001b[0m\n\u001b[0;32m    949\u001b[0m                     \u001b[0marray\u001b[0m \u001b[1;33m=\u001b[0m \u001b[0mxp\u001b[0m\u001b[1;33m.\u001b[0m\u001b[0mastype\u001b[0m\u001b[1;33m(\u001b[0m\u001b[0marray\u001b[0m\u001b[1;33m,\u001b[0m \u001b[0mdtype\u001b[0m\u001b[1;33m,\u001b[0m \u001b[0mcopy\u001b[0m\u001b[1;33m=\u001b[0m\u001b[1;32mFalse\u001b[0m\u001b[1;33m)\u001b[0m\u001b[1;33m\u001b[0m\u001b[1;33m\u001b[0m\u001b[0m\n\u001b[0;32m    950\u001b[0m                 \u001b[1;32melse\u001b[0m\u001b[1;33m:\u001b[0m\u001b[1;33m\u001b[0m\u001b[1;33m\u001b[0m\u001b[0m\n\u001b[0;32m    951\u001b[0m                     \u001b[0marray\u001b[0m \u001b[1;33m=\u001b[0m \u001b[0m_asarray_with_order\u001b[0m\u001b[1;33m(\u001b[0m\u001b[0marray\u001b[0m\u001b[1;33m,\u001b[0m \u001b[0morder\u001b[0m\u001b[1;33m=\u001b[0m\u001b[0morder\u001b[0m\u001b[1;33m,\u001b[0m \u001b[0mdtype\u001b[0m\u001b[1;33m=\u001b[0m\u001b[0mdtype\u001b[0m\u001b[1;33m,\u001b[0m \u001b[0mxp\u001b[0m\u001b[1;33m=\u001b[0m\u001b[0mxp\u001b[0m\u001b[1;33m)\u001b[0m\u001b[1;33m\u001b[0m\u001b[1;33m\u001b[0m\u001b[0m\n\u001b[1;32m--> 952\u001b[1;33m             \u001b[1;32mexcept\u001b[0m \u001b[0mComplexWarning\u001b[0m \u001b[1;32mas\u001b[0m \u001b[0mcomplex_warning\u001b[0m\u001b[1;33m:\u001b[0m\u001b[1;33m\u001b[0m\u001b[1;33m\u001b[0m\u001b[0m\n\u001b[0m\u001b[0;32m    953\u001b[0m                 raise ValueError(\n\u001b[0;32m    954\u001b[0m                     \u001b[1;34m\"Complex data not supported\\n{}\\n\"\u001b[0m\u001b[1;33m.\u001b[0m\u001b[0mformat\u001b[0m\u001b[1;33m(\u001b[0m\u001b[0marray\u001b[0m\u001b[1;33m)\u001b[0m\u001b[1;33m\u001b[0m\u001b[1;33m\u001b[0m\u001b[0m\n\u001b[0;32m    955\u001b[0m                 \u001b[1;33m)\u001b[0m \u001b[1;32mfrom\u001b[0m \u001b[0mcomplex_warning\u001b[0m\u001b[1;33m\u001b[0m\u001b[1;33m\u001b[0m\u001b[0m\n",
      "\u001b[1;32m~\\AppData\\Local\\Programs\\Python\\Python312\\Lib\\site-packages\\sklearn\\utils\\_array_api.py\u001b[0m in \u001b[0;36m?\u001b[1;34m(array, dtype, order, copy, xp)\u001b[0m\n\u001b[0;32m    517\u001b[0m         \u001b[1;31m# Use NumPy API to support order\u001b[0m\u001b[1;33m\u001b[0m\u001b[1;33m\u001b[0m\u001b[0m\n\u001b[0;32m    518\u001b[0m         \u001b[1;32mif\u001b[0m \u001b[0mcopy\u001b[0m \u001b[1;32mis\u001b[0m \u001b[1;32mTrue\u001b[0m\u001b[1;33m:\u001b[0m\u001b[1;33m\u001b[0m\u001b[1;33m\u001b[0m\u001b[0m\n\u001b[0;32m    519\u001b[0m             \u001b[0marray\u001b[0m \u001b[1;33m=\u001b[0m \u001b[0mnumpy\u001b[0m\u001b[1;33m.\u001b[0m\u001b[0marray\u001b[0m\u001b[1;33m(\u001b[0m\u001b[0marray\u001b[0m\u001b[1;33m,\u001b[0m \u001b[0morder\u001b[0m\u001b[1;33m=\u001b[0m\u001b[0morder\u001b[0m\u001b[1;33m,\u001b[0m \u001b[0mdtype\u001b[0m\u001b[1;33m=\u001b[0m\u001b[0mdtype\u001b[0m\u001b[1;33m)\u001b[0m\u001b[1;33m\u001b[0m\u001b[1;33m\u001b[0m\u001b[0m\n\u001b[0;32m    520\u001b[0m         \u001b[1;32melse\u001b[0m\u001b[1;33m:\u001b[0m\u001b[1;33m\u001b[0m\u001b[1;33m\u001b[0m\u001b[0m\n\u001b[1;32m--> 521\u001b[1;33m             \u001b[0marray\u001b[0m \u001b[1;33m=\u001b[0m \u001b[0mnumpy\u001b[0m\u001b[1;33m.\u001b[0m\u001b[0masarray\u001b[0m\u001b[1;33m(\u001b[0m\u001b[0marray\u001b[0m\u001b[1;33m,\u001b[0m \u001b[0morder\u001b[0m\u001b[1;33m=\u001b[0m\u001b[0morder\u001b[0m\u001b[1;33m,\u001b[0m \u001b[0mdtype\u001b[0m\u001b[1;33m=\u001b[0m\u001b[0mdtype\u001b[0m\u001b[1;33m)\u001b[0m\u001b[1;33m\u001b[0m\u001b[1;33m\u001b[0m\u001b[0m\n\u001b[0m\u001b[0;32m    522\u001b[0m \u001b[1;33m\u001b[0m\u001b[0m\n\u001b[0;32m    523\u001b[0m         \u001b[1;31m# At this point array is a NumPy ndarray. We convert it to an array\u001b[0m\u001b[1;33m\u001b[0m\u001b[1;33m\u001b[0m\u001b[0m\n\u001b[0;32m    524\u001b[0m         \u001b[1;31m# container that is consistent with the input's namespace.\u001b[0m\u001b[1;33m\u001b[0m\u001b[1;33m\u001b[0m\u001b[0m\n",
      "\u001b[1;32m~\\AppData\\Local\\Programs\\Python\\Python312\\Lib\\site-packages\\pandas\\core\\generic.py\u001b[0m in \u001b[0;36m?\u001b[1;34m(self, dtype)\u001b[0m\n\u001b[0;32m   2082\u001b[0m     \u001b[1;32mdef\u001b[0m \u001b[0m__array__\u001b[0m\u001b[1;33m(\u001b[0m\u001b[0mself\u001b[0m\u001b[1;33m,\u001b[0m \u001b[0mdtype\u001b[0m\u001b[1;33m:\u001b[0m \u001b[0mnpt\u001b[0m\u001b[1;33m.\u001b[0m\u001b[0mDTypeLike\u001b[0m \u001b[1;33m|\u001b[0m \u001b[1;32mNone\u001b[0m \u001b[1;33m=\u001b[0m \u001b[1;32mNone\u001b[0m\u001b[1;33m)\u001b[0m \u001b[1;33m->\u001b[0m \u001b[0mnp\u001b[0m\u001b[1;33m.\u001b[0m\u001b[0mndarray\u001b[0m\u001b[1;33m:\u001b[0m\u001b[1;33m\u001b[0m\u001b[1;33m\u001b[0m\u001b[0m\n\u001b[0;32m   2083\u001b[0m         \u001b[0mvalues\u001b[0m \u001b[1;33m=\u001b[0m \u001b[0mself\u001b[0m\u001b[1;33m.\u001b[0m\u001b[0m_values\u001b[0m\u001b[1;33m\u001b[0m\u001b[1;33m\u001b[0m\u001b[0m\n\u001b[1;32m-> 2084\u001b[1;33m         \u001b[0marr\u001b[0m \u001b[1;33m=\u001b[0m \u001b[0mnp\u001b[0m\u001b[1;33m.\u001b[0m\u001b[0masarray\u001b[0m\u001b[1;33m(\u001b[0m\u001b[0mvalues\u001b[0m\u001b[1;33m,\u001b[0m \u001b[0mdtype\u001b[0m\u001b[1;33m=\u001b[0m\u001b[0mdtype\u001b[0m\u001b[1;33m)\u001b[0m\u001b[1;33m\u001b[0m\u001b[1;33m\u001b[0m\u001b[0m\n\u001b[0m\u001b[0;32m   2085\u001b[0m         if (\n\u001b[0;32m   2086\u001b[0m             \u001b[0mastype_is_view\u001b[0m\u001b[1;33m(\u001b[0m\u001b[0mvalues\u001b[0m\u001b[1;33m.\u001b[0m\u001b[0mdtype\u001b[0m\u001b[1;33m,\u001b[0m \u001b[0marr\u001b[0m\u001b[1;33m.\u001b[0m\u001b[0mdtype\u001b[0m\u001b[1;33m)\u001b[0m\u001b[1;33m\u001b[0m\u001b[1;33m\u001b[0m\u001b[0m\n\u001b[0;32m   2087\u001b[0m             \u001b[1;32mand\u001b[0m \u001b[0musing_copy_on_write\u001b[0m\u001b[1;33m(\u001b[0m\u001b[1;33m)\u001b[0m\u001b[1;33m\u001b[0m\u001b[1;33m\u001b[0m\u001b[0m\n",
      "\u001b[1;31mTypeError\u001b[0m: float() argument must be a string or a real number, not 'Timestamp'"
     ]
    }
   ],
   "source": [
    "# Train the Logistic Regression model\n",
    "lr = LogisticRegression()\n",
    "lr.fit(X_train, y_train)\n",
    "\n",
    "y_pred = lr.predict(X_test)"
   ]
  },
  {
   "cell_type": "code",
   "execution_count": null,
   "metadata": {
    "id": "i3BwC2i2nq_3"
   },
   "outputs": [],
   "source": []
  }
 ],
 "metadata": {
  "colab": {
   "provenance": []
  },
  "kernelspec": {
   "display_name": "Python 3 (ipykernel)",
   "language": "python",
   "name": "python3"
  },
  "language_info": {
   "codemirror_mode": {
    "name": "ipython",
    "version": 3
   },
   "file_extension": ".py",
   "mimetype": "text/x-python",
   "name": "python",
   "nbconvert_exporter": "python",
   "pygments_lexer": "ipython3",
   "version": "3.12.0"
  }
 },
 "nbformat": 4,
 "nbformat_minor": 4
}
